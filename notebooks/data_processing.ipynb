{
 "cells": [
  {
   "cell_type": "code",
   "execution_count": null,
   "metadata": {},
   "outputs": [],
   "source": [
    "import os\n",
    "import json\n",
    "import pandas as pd\n",
    "import numpy as np\n",
    "from PIL import Image\n",
    "import matplotlib.pyplot as plt\n",
    "from wordcloud import WordCloud"
   ]
  },
  {
   "cell_type": "code",
   "execution_count": null,
   "metadata": {},
   "outputs": [],
   "source": [
    "# Загрузка prompts.json\n",
    "with open(\"data/prompts.json\", \"r\") as f:\n",
    "    prompts = json.load(f)\n",
    "\n",
    "# Преобразование в DataFrame для удобства анализа\n",
    "df_prompts = pd.DataFrame(prompts)\n",
    "\n",
    "# Предварительный просмотр данных\n",
    "df_prompts.head()\n"
   ]
  },
  {
   "cell_type": "code",
   "execution_count": null,
   "metadata": {},
   "outputs": [],
   "source": [
    "# Распределение стилей\n",
    "style_counts = df_prompts[\"style\"].value_counts()\n",
    "plt.figure(figsize=(10, 5))\n",
    "style_counts.plot(kind=\"bar\")\n",
    "plt.title(\"Распределение стилей\")\n",
    "plt.xlabel(\"Стиль\")\n",
    "plt.ylabel(\"Количество\")\n",
    "plt.show()\n"
   ]
  },
  {
   "cell_type": "code",
   "execution_count": null,
   "metadata": {},
   "outputs": [],
   "source": [
    "# Объединяем все текстовые запросы для создания облака слов\n",
    "all_prompts = \" \".join(df_prompts[\"prompt\"].tolist())\n",
    "\n",
    "# Генерация облака слов\n",
    "wordcloud = WordCloud(width=800, height=400, background_color=\"white\").generate(all_prompts)\n",
    "plt.figure(figsize=(10, 5))\n",
    "plt.imshow(wordcloud, interpolation=\"bilinear\")\n",
    "plt.axis(\"off\")\n",
    "plt.title(\"Облако слов из текстовых запросов\")\n",
    "plt.show()\n"
   ]
  },
  {
   "cell_type": "code",
   "execution_count": null,
   "metadata": {},
   "outputs": [],
   "source": [
    "IMAGE_DIR = \"data/images\"\n",
    "PROCESSED_DIR = \"data/processed_images\"\n",
    "os.makedirs(PROCESSED_DIR, exist_ok=True)\n",
    "\n",
    "# Изменение размера изображений\n",
    "for img_file in os.listdir(IMAGE_DIR):\n",
    "    try:\n",
    "        with Image.open(os.path.join(IMAGE_DIR, img_file)) as img:\n",
    "            img_resized = img.resize((256, 256))  # Изменяем размер на 256x256\n",
    "            img_resized.save(os.path.join(PROCESSED_DIR, img_file))\n",
    "    except Exception as e:\n",
    "        print(f\"Ошибка при обработке {img_file}: {e}\")\n"
   ]
  },
  {
   "cell_type": "code",
   "execution_count": null,
   "metadata": {},
   "outputs": [],
   "source": [
    "# Привязка запросов к изображениям\n",
    "df_prompts[\"image_path\"] = df_prompts[\"id\"].apply(lambda x: f\"data/processed_images/{x}.png\")\n",
    "\n",
    "# Проверка наличия изображений\n",
    "df_prompts[\"image_exists\"] = df_prompts[\"image_path\"].apply(lambda x: os.path.exists(x))\n",
    "\n",
    "# Оставляем только те записи, где изображение существует\n",
    "df_clean = df_prompts[df_prompts[\"image_exists\"]]\n",
    "df_clean.to_csv(\"data/processed_data.csv\", index=False)\n",
    "\n",
    "print(f\"Сохранено {len(df_clean)} записей.\")\n"
   ]
  },
  {
   "cell_type": "code",
   "execution_count": null,
   "metadata": {},
   "outputs": [],
   "source": [
    "import torch\n",
    "\n",
    "# Пример: Сохранение текстов и путей к изображениям для использования в обучении\n",
    "processed_data = {\n",
    "    \"prompts\": df_clean[\"prompt\"].tolist(),\n",
    "    \"image_paths\": df_clean[\"image_path\"].tolist()\n",
    "}\n",
    "\n",
    "torch.save(processed_data, \"data/processed_data.pt\")\n",
    "print(\"Данные сохранены в формате PyTorch.\")\n"
   ]
  },
  {
   "cell_type": "code",
   "execution_count": null,
   "metadata": {},
   "outputs": [],
   "source": [
    "import random\n",
    "\n",
    "# Вывод нескольких изображений с запросами\n",
    "sample_data = df_clean.sample(5)\n",
    "for _, row in sample_data.iterrows():\n",
    "    img = Image.open(row[\"image_path\"])\n",
    "    plt.figure()\n",
    "    plt.imshow(img)\n",
    "    plt.title(row[\"prompt\"])\n",
    "    plt.axis(\"off\")\n",
    "    plt.show()\n"
   ]
  }
 ],
 "metadata": {
  "kernelspec": {
   "display_name": "Python 3",
   "language": "python",
   "name": "python3"
  },
  "language_info": {
   "name": "python",
   "version": "3.10.1"
  }
 },
 "nbformat": 4,
 "nbformat_minor": 2
}
